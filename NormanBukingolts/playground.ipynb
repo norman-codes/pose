{
 "cells": [
  {
   "cell_type": "markdown",
   "metadata": {},
   "source": [
    "# Notebook for Experimentation and Testing"
   ]
  },
  {
   "cell_type": "markdown",
   "metadata": {},
   "source": [
    "## Purpose\n",
    "\n",
    "This notebook was created to follow the instructions from Homework 1, Step 3:\n",
    "```\n",
    "Step 3: Set Up Your Playground Notebook\n",
    "\n",
    "Inside your personal folder, create a Jupyter notebook named playground.ipynb. This notebook will be your dedicated space for experimentation and testing.\n",
    "```"
   ]
  }
 ],
 "metadata": {
  "language_info": {
   "name": "python"
  }
 },
 "nbformat": 4,
 "nbformat_minor": 2
}

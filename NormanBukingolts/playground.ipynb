{
 "cells": [
  {
   "cell_type": "markdown",
   "metadata": {},
   "source": [
    "# Notebook for Experimentation and Testing"
   ]
  },
  {
   "cell_type": "markdown",
   "metadata": {},
   "source": [
    "## Purpose\n",
    "\n",
    "This notebook was created to follow the instructions from Homework 1, Step 3:\n",
    "```\n",
    "Step 3: Set Up Your Playground Notebook\n",
    "\n",
    "Inside your personal folder, create a Jupyter notebook named playground.ipynb. This notebook will be your dedicated space for experimentation and testing.\n",
    "```"
   ]
  },
  {
   "cell_type": "markdown",
   "metadata": {},
   "source": [
    "## "
   ]
  },
  {
   "cell_type": "markdown",
   "metadata": {},
   "source": [
    "## Contents\n",
    "\n",
    "The notebook will retrieve and display data (Homework 1) and perform the first steps of model development (Homework 2)."
   ]
  }
 ],
 "metadata": {
  "language_info": {
   "name": "python"
  }
 },
 "nbformat": 4,
 "nbformat_minor": 2
}
